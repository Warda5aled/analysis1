{
  "nbformat": 4,
  "nbformat_minor": 0,
  "metadata": {
    "colab": {
      "provenance": [],
      "authorship_tag": "ABX9TyPfmFuySFBeJOvATcBcE4Qq",
      "include_colab_link": true
    },
    "kernelspec": {
      "name": "python3",
      "display_name": "Python 3"
    },
    "language_info": {
      "name": "python"
    }
  },
  "cells": [
    {
      "cell_type": "markdown",
      "metadata": {
        "id": "view-in-github",
        "colab_type": "text"
      },
      "source": [
        "<a href=\"https://colab.research.google.com/github/Warda5aled/analysis1/blob/main/Copy_of_Untitled2.ipynb\" target=\"_parent\"><img src=\"https://colab.research.google.com/assets/colab-badge.svg\" alt=\"Open In Colab\"/></a>"
      ]
    },
    {
      "cell_type": "code",
      "execution_count": null,
      "metadata": {
        "colab": {
          "base_uri": "https://localhost:8080/",
          "height": 543
        },
        "id": "52BlO8dPeyMi",
        "outputId": "c038008b-7871-47f5-d140-1704521668c7"
      },
      "outputs": [
        {
          "output_type": "stream",
          "name": "stdout",
          "text": [
            "Requirement already satisfied: vaderSentiment in /usr/local/lib/python3.11/dist-packages (3.3.2)\n",
            "Requirement already satisfied: requests in /usr/local/lib/python3.11/dist-packages (from vaderSentiment) (2.32.3)\n",
            "Requirement already satisfied: charset-normalizer<4,>=2 in /usr/local/lib/python3.11/dist-packages (from requests->vaderSentiment) (3.4.1)\n",
            "Requirement already satisfied: idna<4,>=2.5 in /usr/local/lib/python3.11/dist-packages (from requests->vaderSentiment) (3.10)\n",
            "Requirement already satisfied: urllib3<3,>=1.21.1 in /usr/local/lib/python3.11/dist-packages (from requests->vaderSentiment) (2.3.0)\n",
            "Requirement already satisfied: certifi>=2017.4.17 in /usr/local/lib/python3.11/dist-packages (from requests->vaderSentiment) (2025.1.31)\n",
            "                                              Review  Sentiment_Score  \\\n",
            "0                This product is amazing! I love it.           0.8516   \n",
            "1       Worst experience ever. Totally disappointed.          -0.8173   \n",
            "2                        It's okay, nothing special.          -0.0920   \n",
            "3  I had a great time using this. Highly recommen...           0.7569   \n",
            "4                   Not good, not bad. Just average.          -0.5824   \n",
            "5           Absolutely terrible. Never buying again!          -0.5697   \n",
            "6                      Fantastic! Worth every penny.           0.6996   \n",
            "7     I didn't like it much, but it's not the worst.           0.5975   \n",
            "8                The best purchase I have ever made!           0.6696   \n",
            "9                             Meh, I've seen better.           0.3818   \n",
            "\n",
            "  Sentiment  \n",
            "0  Positive  \n",
            "1  Negative  \n",
            "2  Negative  \n",
            "3  Positive  \n",
            "4  Negative  \n",
            "5  Negative  \n",
            "6  Positive  \n",
            "7  Positive  \n",
            "8  Positive  \n",
            "9  Positive  \n"
          ]
        },
        {
          "output_type": "display_data",
          "data": {
            "text/plain": [
              "<IPython.core.display.Javascript object>"
            ],
            "application/javascript": [
              "\n",
              "    async function download(id, filename, size) {\n",
              "      if (!google.colab.kernel.accessAllowed) {\n",
              "        return;\n",
              "      }\n",
              "      const div = document.createElement('div');\n",
              "      const label = document.createElement('label');\n",
              "      label.textContent = `Downloading \"${filename}\": `;\n",
              "      div.appendChild(label);\n",
              "      const progress = document.createElement('progress');\n",
              "      progress.max = size;\n",
              "      div.appendChild(progress);\n",
              "      document.body.appendChild(div);\n",
              "\n",
              "      const buffers = [];\n",
              "      let downloaded = 0;\n",
              "\n",
              "      const channel = await google.colab.kernel.comms.open(id);\n",
              "      // Send a message to notify the kernel that we're ready.\n",
              "      channel.send({})\n",
              "\n",
              "      for await (const message of channel.messages) {\n",
              "        // Send a message to notify the kernel that we're ready.\n",
              "        channel.send({})\n",
              "        if (message.buffers) {\n",
              "          for (const buffer of message.buffers) {\n",
              "            buffers.push(buffer);\n",
              "            downloaded += buffer.byteLength;\n",
              "            progress.value = downloaded;\n",
              "          }\n",
              "        }\n",
              "      }\n",
              "      const blob = new Blob(buffers, {type: 'application/binary'});\n",
              "      const a = document.createElement('a');\n",
              "      a.href = window.URL.createObjectURL(blob);\n",
              "      a.download = filename;\n",
              "      div.appendChild(a);\n",
              "      a.click();\n",
              "      div.remove();\n",
              "    }\n",
              "  "
            ]
          },
          "metadata": {}
        },
        {
          "output_type": "display_data",
          "data": {
            "text/plain": [
              "<IPython.core.display.Javascript object>"
            ],
            "application/javascript": [
              "download(\"download_e90757ff-0a5c-4d8c-a50a-38c8d84c2461\", \"reviews_with_sentiment.csv\", 574)"
            ]
          },
          "metadata": {}
        }
      ],
      "source": [
        "# تثبيت مكتبة VADER إذا لم تكن مثبتة\n",
        "!pip install vaderSentiment\n",
        "\n",
        "# استيراد المكتبات المطلوبة\n",
        "import pandas as pd\n",
        "from vaderSentiment.vaderSentiment import SentimentIntensityAnalyzer\n",
        "\n",
        "# إنشاء نموذج VADER لتحليل المشاعر\n",
        "analyzer = SentimentIntensityAnalyzer()\n",
        "\n",
        "# إنشاء بيانات تجريبية باللغة الإنجليزية\n",
        "data = {\n",
        "    \"Review\": [\n",
        "        \"This product is amazing! I love it.\",\n",
        "        \"Worst experience ever. Totally disappointed.\",\n",
        "        \"It's okay, nothing special.\",\n",
        "        \"I had a great time using this. Highly recommended!\",\n",
        "        \"Not good, not bad. Just average.\",\n",
        "        \"Absolutely terrible. Never buying again!\",\n",
        "        \"Fantastic! Worth every penny.\",\n",
        "        \"I didn't like it much, but it's not the worst.\",\n",
        "        \"The best purchase I have ever made!\",\n",
        "        \"Meh, I've seen better.\"\n",
        "    ]\n",
        "}\n",
        "\n",
        "# تحويل البيانات إلى DataFrame\n",
        "df = pd.DataFrame(data)\n",
        "\n",
        "# تحليل المشاعر وإضافة النتائج إلى DataFrame\n",
        "df[\"Sentiment_Score\"] = df[\"Review\"].apply(lambda x: analyzer.polarity_scores(x)['compound'])\n",
        "df[\"Sentiment\"] = df[\"Sentiment_Score\"].apply(lambda score: \"Positive\" if score > 0.05 else (\"Negative\" if score < -0.05 else \"Neutral\"))\n",
        "\n",
        "# طباعة النتائج\n",
        "print(df)\n",
        "\n",
        "# حفظ النتائج في ملف CSV\n",
        "df.to_csv('reviews_with_sentiment.csv', index=False)\n",
        "\n",
        "# تحميل الملف إلى الجهاز\n",
        "from google.colab import files\n",
        "files.download('reviews_with_sentiment.csv')\n"
      ]
    }
  ]
}